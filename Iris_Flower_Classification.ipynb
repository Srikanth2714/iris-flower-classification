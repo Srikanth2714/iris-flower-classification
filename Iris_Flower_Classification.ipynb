{
 "cells": [
  {
   "cell_type": "code",
   "execution_count": null,
   "id": "23e6417a-80d6-4b77-8eb8-72aca2993c1b",
   "metadata": {},
   "outputs": [],
   "source": [
    "import pandas as pd\n",
    "import numpy as np\n",
    "import matplotlib.pyplot as plt\n",
    "%matplotlib inline\n",
    "import seaborn as sns"
   ]
  },
  {
   "cell_type": "code",
   "execution_count": null,
   "id": "8e708ff9-0f1e-4254-b4ab-23f10f713523",
   "metadata": {},
   "outputs": [],
   "source": [
    "df = pd.read_csv('iris.csv')\n",
    "df.head()"
   ]
  },
  {
   "cell_type": "code",
   "execution_count": null,
   "id": "ce17ab74-0af1-4e4a-bb85-16ce05490ce5",
   "metadata": {},
   "outputs": [],
   "source": [
    "df.info()"
   ]
  },
  {
   "cell_type": "code",
   "execution_count": null,
   "id": "a8e043ce-b393-4ac9-bb83-6ca697d58559",
   "metadata": {},
   "outputs": [],
   "source": [
    "df.isnull().sum()"
   ]
  },
  {
   "cell_type": "code",
   "execution_count": null,
   "id": "afa9a6f6-ca6d-4666-a009-f697fa0e0d8e",
   "metadata": {},
   "outputs": [],
   "source": [
    "df.describe()"
   ]
  },
  {
   "cell_type": "code",
   "execution_count": null,
   "id": "6889dafd-ef34-46ad-9449-524ae35484c4",
   "metadata": {},
   "outputs": [],
   "source": [
    "df['Species'].unique()"
   ]
  },
  {
   "cell_type": "code",
   "execution_count": null,
   "id": "5e8f031d-7fbe-4083-bc8c-b682119a06ae",
   "metadata": {},
   "outputs": [],
   "source": [
    "species = df['Species'].value_counts()\n",
    "labels = species.index\n",
    "quantity = species.values"
   ]
  },
  {
   "cell_type": "code",
   "execution_count": null,
   "id": "4a3dd802-1af3-4fd7-aca7-0a5c5b793e88",
   "metadata": {},
   "outputs": [],
   "source": [
    "plt.pie(quantity,labels=labels, autopct='%1.1f%%')\n",
    "plt.legend(loc='upper left')\n",
    "plt.show()"
   ]
  },
  {
   "cell_type": "code",
   "execution_count": null,
   "id": "d8e85d52-e570-49f8-98e3-9d159c41f63e",
   "metadata": {},
   "outputs": [],
   "source": [
    "sns.scatterplot(x=df['Sepal.Width'], y=df['Sepal.Length'], hue=df['Species'])\n",
    "plt.show()"
   ]
  },
  {
   "cell_type": "code",
   "execution_count": null,
   "id": "92d50c66-f974-4ad6-b4bd-9d839925bb51",
   "metadata": {},
   "outputs": [],
   "source": [
    "X = df.drop('Species',axis=1)\n",
    "y = df['Species']"
   ]
  },
  {
   "cell_type": "code",
   "execution_count": null,
   "id": "03673e46-c0dc-4bda-940d-4a01e2065f17",
   "metadata": {},
   "outputs": [],
   "source": [
    "from sklearn.model_selection import train_test_split\n",
    "from sklearn.neighbors import KNeighborsClassifier"
   ]
  },
  {
   "cell_type": "code",
   "execution_count": null,
   "id": "6edefb54-027a-4685-989a-4ee1a0bb7bef",
   "metadata": {},
   "outputs": [],
   "source": [
    "X_train, X_test, y_train, y_test = train_test_split(X, y, test_size=0.2, random_state=42)"
   ]
  },
  {
   "cell_type": "code",
   "execution_count": null,
   "id": "79c76f49-a5c2-4cdb-971d-4ff6585ca6d1",
   "metadata": {},
   "outputs": [],
   "source": [
    "knn = KNeighborsClassifier()\n",
    "knn.fit(X_train,y_train)"
   ]
  },
  {
   "cell_type": "code",
   "execution_count": null,
   "id": "449b19c4-c455-4baf-9444-54f299aa9056",
   "metadata": {},
   "outputs": [],
   "source": [
    "from sklearn.metrics import accuracy_score"
   ]
  },
  {
   "cell_type": "code",
   "execution_count": null,
   "id": "1e37ee23-f396-4943-9fe2-f25c259378dd",
   "metadata": {},
   "outputs": [],
   "source": [
    "pred = knn.predict(X_test)"
   ]
  },
  {
   "cell_type": "code",
   "execution_count": null,
   "id": "a2bc7f2f-287c-4add-8cd4-9117573764a8",
   "metadata": {},
   "outputs": [],
   "source": [
    "accuracy_score(y_test,pred)"
   ]
  },
  {
   "cell_type": "code",
   "execution_count": null,
   "id": "94f88ab0-36ac-4ebb-91c1-c82f4271ee21",
   "metadata": {},
   "outputs": [],
   "source": [
    "pred = pd.Series(pred,name='Prediction')"
   ]
  },
  {
   "cell_type": "code",
   "execution_count": null,
   "id": "ea4a579a-e0d9-44e9-b605-ef409908ef7c",
   "metadata": {},
   "outputs": [],
   "source": [
    "X_test_df = X_test.copy()"
   ]
  },
  {
   "cell_type": "code",
   "execution_count": null,
   "id": "8cfaa79f-6b75-48f7-a724-e8b96a069860",
   "metadata": {},
   "outputs": [],
   "source": [
    "X_test_df=X_test_df.reset_index(drop=True)"
   ]
  },
  {
   "cell_type": "code",
   "execution_count": null,
   "id": "4b7c761d-ab1d-4794-b406-52c570b88fcf",
   "metadata": {},
   "outputs": [],
   "source": [
    "X_test_df['Prediction'] = pred"
   ]
  },
  {
   "cell_type": "code",
   "execution_count": null,
   "id": "5c951979-5327-4213-9a85-565c267b28ae",
   "metadata": {},
   "outputs": [],
   "source": [
    "X_test_df"
   ]
  },
  {
   "cell_type": "code",
   "execution_count": null,
   "id": "e4a62c8f-442d-47a1-b7bb-0714da8179c7",
   "metadata": {},
   "outputs": [],
   "source": []
  }
 ],
 "metadata": {
  "kernelspec": {
   "display_name": "Python 3 (ipykernel)",
   "language": "python",
   "name": "python3"
  },
  "language_info": {
   "codemirror_mode": {
    "name": "ipython",
    "version": 3
   },
   "file_extension": ".py",
   "mimetype": "text/x-python",
   "name": "python",
   "nbconvert_exporter": "python",
   "pygments_lexer": "ipython3",
   "version": "3.11.7"
  }
 },
 "nbformat": 4,
 "nbformat_minor": 5
}
